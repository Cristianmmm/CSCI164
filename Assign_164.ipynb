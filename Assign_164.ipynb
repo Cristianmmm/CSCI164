{
  "nbformat": 4,
  "nbformat_minor": 0,
  "metadata": {
    "colab": {
      "provenance": [],
      "include_colab_link": true
    },
    "kernelspec": {
      "name": "python3",
      "display_name": "Python 3"
    }
  },
  "cells": [
    {
      "cell_type": "markdown",
      "metadata": {
        "id": "view-in-github",
        "colab_type": "text"
      },
      "source": [
        "<a href=\"https://colab.research.google.com/github/Cristianmmm/CSCI164/blob/main/Assign_164.ipynb\" target=\"_parent\"><img src=\"https://colab.research.google.com/assets/colab-badge.svg\" alt=\"Open In Colab\"/></a>"
      ]
    },
    {
      "cell_type": "code",
      "metadata": {
        "id": "Gbe5KqWcISTq"
      },
      "source": [
        "import random\n",
        "import heapq"
      ],
      "execution_count": 9,
      "outputs": []
    },
    {
      "cell_type": "markdown",
      "metadata": {
        "id": "PHnbnN2uV8zr"
      },
      "source": [
        "# Tile Sliding Domain: Initial State Space"
      ]
    },
    {
      "cell_type": "code",
      "metadata": {
        "id": "jPCNOa4W-5yq"
      },
      "source": [
        "StateDimension=4\n",
        "InitialState = [1,2,3,4,5,6,7,8,9,10,11,12,13,14,15,0]\n",
        "GoalState=[1,2,3,4,5,6,7,8,9,10,11,12,13,14,15,0]\n",
        "Actions = lambda s: ['u', 'd', 'l', 'r']\n",
        "Opposite=dict([('u','d'),('d','u'),('l','r'),('r','l'), (None, None)])"
      ],
      "execution_count": 79,
      "outputs": []
    },
    {
      "cell_type": "code",
      "metadata": {
        "id": "XjnzkkC8_HE8"
      },
      "source": [
        "def Result(state, action):\n",
        "  i = state.index(0)\n",
        "  newState = list(state)\n",
        "  row,col=i//StateDimension, i % StateDimension\n",
        "  if ( (action=='u' and row==0) or\n",
        "       (action=='d' and row==StateDimension-1) or\n",
        "       (action=='l' and col==0) or\n",
        "       (action=='r' and col==StateDimension-1)):\n",
        "      return newState\n",
        "  if action=='u':\n",
        "    l,r = row*StateDimension+col, (row-1)*StateDimension+col\n",
        "  elif action=='d':\n",
        "    l,r = row*StateDimension+col, (row+1)*StateDimension+col\n",
        "  elif action=='l':\n",
        "    l,r = row*StateDimension+col, row*StateDimension+col-1\n",
        "  elif action=='r' :\n",
        "    l,r = row*StateDimension+col, row*StateDimension+col+1\n",
        "  newState[l], newState[r] = newState[r], newState[l]\n",
        "  return newState\n",
        "\n",
        "def PrintState(s):\n",
        "  for i in range(0,len(s),StateDimension):\n",
        "    print(s[i:i+StateDimension])\n",
        "\n",
        "def LegalMove(state, action):\n",
        "  i = state.index(0)\n",
        "  row,col=i//StateDimension, i % StateDimension\n",
        "  newState = state.copy()\n",
        "  if ( (action=='u' and row==0) or\n",
        "       (action=='d' and row==StateDimension-1) or\n",
        "       (action=='l' and col==0) or\n",
        "       (action=='r' and col==StateDimension-1)):\n",
        "      return False\n",
        "  return True\n"
      ],
      "execution_count": 74,
      "outputs": []
    },
    {
      "cell_type": "code",
      "metadata": {
        "id": "4z6hE5HsNwHf"
      },
      "source": [
        "def SingleTileManhattanDistance(tile, left, right):\n",
        "  leftIndex = left.index(tile)\n",
        "  rightIndex = right.index(tile)\n",
        "  return (abs(leftIndex//StateDimension-rightIndex//StateDimension) +\n",
        "          abs(leftIndex%StateDimension-rightIndex%StateDimension))\n",
        "\n",
        "def ManhattanDistance(left, right):\n",
        "  distances = [SingleTileManhattanDistance(tile, left, right)\n",
        "     for tile in range(1, StateDimension**2)]\n",
        "  ### print (\"Distances= \", distances)\n",
        "  return sum(distances)\n"
      ],
      "execution_count": 75,
      "outputs": []
    },
    {
      "cell_type": "code",
      "metadata": {
        "id": "7PE_gAdLSY_z"
      },
      "source": [
        "def OutOfPlace(left, right):\n",
        "  distances = [left[i]!=right[i] and right[i] != 0\n",
        "     for i in range(StateDimension**2)]\n",
        "  return sum(distances)"
      ],
      "execution_count": 76,
      "outputs": []
    },
    {
      "cell_type": "code",
      "metadata": {
        "colab": {
          "base_uri": "https://localhost:8080/"
        },
        "id": "bE7MrTAI_t6i",
        "outputId": "53e33d84-ce32-4d43-ca9a-9edf2dce8a9d"
      },
      "source": [
        "PrintState(InitialState)"
      ],
      "execution_count": 80,
      "outputs": [
        {
          "output_type": "stream",
          "name": "stdout",
          "text": [
            "[1, 2, 3, 4]\n",
            "[5, 6, 7, 8]\n",
            "[9, 10, 11, 12]\n",
            "[13, 14, 15, 0]\n"
          ]
        }
      ]
    },
    {
      "cell_type": "code",
      "metadata": {
        "colab": {
          "base_uri": "https://localhost:8080/"
        },
        "id": "wRULKFeXVcp3",
        "outputId": "3da3cff6-52ca-4566-9d02-8bce38d613ac"
      },
      "source": [
        "PrintState(GoalState)"
      ],
      "execution_count": 81,
      "outputs": [
        {
          "output_type": "stream",
          "name": "stdout",
          "text": [
            "[1, 2, 3, 4]\n",
            "[5, 6, 7, 8]\n",
            "[9, 10, 11, 12]\n",
            "[13, 14, 15, 0]\n"
          ]
        }
      ]
    },
    {
      "cell_type": "code",
      "metadata": {
        "colab": {
          "base_uri": "https://localhost:8080/"
        },
        "id": "Ke12RA7cPaS9",
        "outputId": "b128101d-9618-4bf6-be1f-1bb22931fd86"
      },
      "source": [
        "print(\"ManhattanDistance=  \", ManhattanDistance(InitialState, GoalState))\n",
        "print(\"OutOfPlace= \", OutOfPlace(InitialState, GoalState))\n"
      ],
      "execution_count": 82,
      "outputs": [
        {
          "output_type": "stream",
          "name": "stdout",
          "text": [
            "ManhattanDistance=   0\n",
            "OutOfPlace=  0\n"
          ]
        }
      ]
    },
    {
      "cell_type": "code",
      "metadata": {
        "colab": {
          "base_uri": "https://localhost:8080/"
        },
        "id": "j-EYW_gqGZtl",
        "outputId": "63679351-2ef4-4601-f754-8ee6f3c76ef2"
      },
      "source": [
        "PrintState(InitialState)\n",
        "print()\n",
        "state1 = Result(InitialState, 'u')\n",
        "PrintState(state1)\n",
        "print()\n",
        "state1 = Result(state1, 'r')\n",
        "PrintState(state1)"
      ],
      "execution_count": 83,
      "outputs": [
        {
          "output_type": "stream",
          "name": "stdout",
          "text": [
            "[1, 2, 3, 4]\n",
            "[5, 6, 7, 8]\n",
            "[9, 10, 11, 12]\n",
            "[13, 14, 15, 0]\n",
            "\n",
            "[1, 2, 3, 4]\n",
            "[5, 6, 7, 8]\n",
            "[9, 10, 11, 0]\n",
            "[13, 14, 15, 12]\n",
            "\n",
            "[1, 2, 3, 4]\n",
            "[5, 6, 7, 8]\n",
            "[9, 10, 11, 0]\n",
            "[13, 14, 15, 12]\n"
          ]
        }
      ]
    },
    {
      "cell_type": "markdown",
      "metadata": {
        "id": "Mp0tnomdTFoC"
      },
      "source": [
        "# Random Walk\n",
        "\n",
        "Take some random moves from a state and return the new state and the sequence of moves.\n",
        "\n",
        "Do not include moves undoing last move, or having no effect."
      ]
    },
    {
      "cell_type": "code",
      "metadata": {
        "id": "1RVh0-S9IFiy"
      },
      "source": [
        "def RandomWalk(state, steps):\n",
        "  actionSequence = []\n",
        "  actionLast = None\n",
        "  for i in range(steps):\n",
        "    action = None\n",
        "    while action==None:\n",
        "      action = random.choice(Actions(state))\n",
        "      action = action if (LegalMove(state, action)\n",
        "          and action!= Opposite[actionLast]) else None\n",
        "    actionLast = action\n",
        "    state = Result(state, action)\n",
        "    actionSequence.append(action)\n",
        "  return state, actionSequence\n",
        "\n"
      ],
      "execution_count": 84,
      "outputs": []
    },
    {
      "cell_type": "code",
      "metadata": {
        "colab": {
          "base_uri": "https://localhost:8080/"
        },
        "id": "wcn5POkxKlER",
        "outputId": "aa5615fd-3d13-4798-916e-d8a32b105b9a"
      },
      "source": [
        "state1, sol = RandomWalk(InitialState, 150)\n",
        "PrintState(state1)\n",
        "print (ManhattanDistance(state1, GoalState), sol)\n",
        "\n",
        "state1, sol = RandomWalk(InitialState, 5)\n",
        "PrintState(InitialState)\n",
        "print (sol)\n",
        "PrintState(state1)"
      ],
      "execution_count": 85,
      "outputs": [
        {
          "output_type": "stream",
          "name": "stdout",
          "text": [
            "[2, 7, 6, 8]\n",
            "[5, 14, 13, 12]\n",
            "[3, 9, 0, 15]\n",
            "[11, 4, 1, 10]\n",
            "36 ['l', 'l', 'l', 'u', 'u', 'r', 'r', 'r', 'u', 'l', 'd', 'r', 'u', 'l', 'd', 'r', 'd', 'l', 'd', 'l', 'l', 'u', 'u', 'u', 'r', 'd', 'd', 'l', 'd', 'r', 'r', 'u', 'u', 'u', 'l', 'l', 'd', 'd', 'd', 'r', 'r', 'u', 'l', 'u', 'l', 'u', 'r', 'd', 'd', 'd', 'r', 'u', 'r', 'd', 'l', 'l', 'l', 'u', 'r', 'u', 'u', 'l', 'd', 'd', 'r', 'r', 'r', 'u', 'l', 'l', 'd', 'd', 'r', 'r', 'u', 'u', 'l', 'd', 'd', 'r', 'u', 'u', 'l', 'l', 'd', 'r', 'd', 'l', 'l', 'u', 'u', 'u', 'r', 'd', 'r', 'd', 'd', 'r', 'u', 'l', 'd', 'l', 'l', 'u', 'u', 'r', 'd', 'd', 'r', 'u', 'l', 'd', 'r', 'r', 'u', 'l', 'd', 'l', 'u', 'r', 'd', 'r', 'u', 'u', 'l', 'u', 'l', 'd', 'r', 'u', 'l', 'd', 'd', 'l', 'd', 'r', 'r', 'u', 'l', 'l', 'u', 'r', 'd', 'd', 'l', 'u', 'r', 'd', 'r', 'u']\n",
            "[1, 2, 3, 4]\n",
            "[5, 6, 7, 8]\n",
            "[9, 10, 11, 12]\n",
            "[13, 14, 15, 0]\n",
            "['u', 'l', 'u', 'r', 'u']\n",
            "[1, 2, 3, 0]\n",
            "[5, 6, 8, 4]\n",
            "[9, 10, 7, 11]\n",
            "[13, 14, 15, 12]\n"
          ]
        }
      ]
    },
    {
      "cell_type": "code",
      "metadata": {
        "id": "Rc_8ohYvNIq-"
      },
      "source": [
        "def ApplyMoves(actions, state):\n",
        "  for action in actions:\n",
        "    state = Result(state, action)\n",
        "  return state"
      ],
      "execution_count": 86,
      "outputs": []
    },
    {
      "cell_type": "code",
      "metadata": {
        "colab": {
          "base_uri": "https://localhost:8080/"
        },
        "id": "Wv7MGqh8NXqy",
        "outputId": "861811a1-7abe-46e8-c2d0-81d8f6b28878"
      },
      "source": [
        "PrintState(InitialState)\n",
        "print(['r','r'])\n",
        "PrintState(ApplyMoves(['r','r'],InitialState))"
      ],
      "execution_count": 87,
      "outputs": [
        {
          "output_type": "stream",
          "name": "stdout",
          "text": [
            "[1, 2, 3, 4]\n",
            "[5, 6, 7, 8]\n",
            "[9, 10, 11, 12]\n",
            "[13, 14, 15, 0]\n",
            "['r', 'r']\n",
            "[1, 2, 3, 4]\n",
            "[5, 6, 7, 8]\n",
            "[9, 10, 11, 12]\n",
            "[13, 14, 15, 0]\n"
          ]
        }
      ]
    },
    {
      "cell_type": "code",
      "metadata": {
        "id": "_VS2KzQbOHlO"
      },
      "source": [
        "def ReverseMoves(actions):\n",
        "  ret = [Opposite[a] for a in actions]\n",
        "  ret.reverse()\n",
        "  return ret"
      ],
      "execution_count": 88,
      "outputs": []
    },
    {
      "cell_type": "code",
      "metadata": {
        "colab": {
          "base_uri": "https://localhost:8080/"
        },
        "id": "tp_pqYBXOsqS",
        "outputId": "8a9e1c98-402f-4ee4-efa8-b3d2dc84d041"
      },
      "source": [
        "state1, sol = RandomWalk(GoalState, 5)\n",
        "PrintState(state1)\n",
        "print (sol)\n",
        "print(ReverseMoves(sol))\n",
        "PrintState (ApplyMoves(ReverseMoves(sol), state1))\n"
      ],
      "execution_count": 89,
      "outputs": [
        {
          "output_type": "stream",
          "name": "stdout",
          "text": [
            "[1, 0, 3, 4]\n",
            "[5, 2, 6, 8]\n",
            "[9, 10, 7, 12]\n",
            "[13, 14, 11, 15]\n",
            "['l', 'u', 'u', 'l', 'u']\n",
            "['d', 'r', 'd', 'd', 'r']\n",
            "[1, 2, 3, 4]\n",
            "[5, 6, 7, 8]\n",
            "[9, 10, 11, 12]\n",
            "[13, 14, 15, 0]\n"
          ]
        }
      ]
    },
    {
      "cell_type": "markdown",
      "metadata": {
        "id": "8ABBDMJLROdo"
      },
      "source": [
        "## Problem Class\n",
        "\n",
        "INITIAL = InitialState  \n",
        "IsGoal = Goal Test  \n",
        "Actions = Actions List  \n",
        "Result = Action Behavior  \n",
        "ActionCost = Action Cost  "
      ]
    },
    {
      "cell_type": "code",
      "metadata": {
        "id": "fo6sq7myRQpE"
      },
      "source": [
        "class Problem(object): pass"
      ],
      "execution_count": 90,
      "outputs": []
    },
    {
      "cell_type": "markdown",
      "metadata": {
        "id": "aAHXlWteQ2LN"
      },
      "source": [
        "## Node"
      ]
    },
    {
      "cell_type": "code",
      "metadata": {
        "id": "URRYlfS9Q3vx"
      },
      "source": [
        "class Node(object):\n",
        "  def __init__(self, state, parent=None, action=None, path_cost=0 ):\n",
        "    self.State=state\n",
        "    self.Parent=parent\n",
        "    self.Action=action\n",
        "    self.PathCost = path_cost\n",
        "\n",
        "  def __str__(self):\n",
        "    action = \"<none>\" if not self.Action else self.Action\n",
        "    return str(self.State) + \", \" + action\n",
        "  def __repr__(self):\n",
        "    action = \"<none>\" if not self.Action else self.Action\n",
        "    return str(self.State) + \", \" + action\n",
        "  def __lt__(self, other):\n",
        "    return self.PathCost < other.PathCost;"
      ],
      "execution_count": 91,
      "outputs": []
    },
    {
      "cell_type": "markdown",
      "metadata": {
        "id": "LpzKnx4rkxL9"
      },
      "source": [
        "## Expand"
      ]
    },
    {
      "cell_type": "code",
      "metadata": {
        "id": "CRj9UnyHdDo_"
      },
      "source": [
        "def Expand(problem, node):\n",
        "  ret = []\n",
        "  s = node.State\n",
        "  for action in problem.Actions(s):\n",
        "    sPrime = problem.Result(s, action)\n",
        "    cost =node.PathCost + problem.ActionCost(s,action,sPrime)\n",
        "    ret.append(Node(sPrime, node, action, cost))\n",
        "  return ret\n"
      ],
      "execution_count": 92,
      "outputs": []
    },
    {
      "cell_type": "markdown",
      "metadata": {
        "id": "Ee2ZYxjVlBSl"
      },
      "source": [
        "## Breadth-First Search"
      ]
    },
    {
      "cell_type": "markdown",
      "source": [
        "Breadth-first for the 3x3 are relatively efficient. They performed well when the were given a small set of state space. However, when expanded to a 4x4, they took increasingly longer to generate, somethimes it even seemed like it would never stop. The nodes expanded were greater than 500,000 for the 80 steps in 4x4. Using A* and Manhattan, we were able to increase the efficiency within the algorithm. It gave us results the were withing the range below 500,000 expanded notes and had solutiion lengths similar to the 3x3. This meant it took faster to load compared to the regular BFS."
      ],
      "metadata": {
        "id": "2x8QXjrR4OB_"
      }
    },
    {
      "cell_type": "markdown",
      "source": [
        "The Monhttan Distance was the top performer. It outperformed Out-of-Place mainly because of the heuristic approach. This is in line with the fundemental ideas of how ot solve complex spaces. Using the Manhattan Distance is also very good for reducing the number of nodes expanded, especially when compared to BFS as it can be a very drastic difference. This also applies to the 3x3 and 4x4 space. However, the jump doesn't seem as big when comparing them in the 3x3 than in the 4x4. Having the extra massive state space really puts into perspective how much more efficient Manhattan really is. A* and Out-Of-Place are are better than BFS, but not as good as Manhattan, again, likely because of the heuristics approach. The Uninformed seach has a hard time scaling compared ot the informed search, as expected. This is very apparent and crucial for larger complex problems as it helps nagivate the task better."
      ],
      "metadata": {
        "id": "XUdmorc_5g2w"
      }
    },
    {
      "cell_type": "code",
      "metadata": {
        "id": "DZoCxoGzkt4E"
      },
      "source": [
        "def BreadthFirstSearch(problem):\n",
        "  node = Node(tuple(problem.INITIAL))\n",
        "  if problem.IsGoal(node.State):\n",
        "    return node, 0\n",
        "  Frontier = []\n",
        "  Frontier.append(node)\n",
        "  reached = set()\n",
        "  reached.add(tuple(problem.INITIAL))\n",
        "  nodesExpanded = 0\n",
        "  while (Frontier):\n",
        "    ### print([str(n) for n in Frontier])\n",
        "    node = Frontier.pop(0)\n",
        "    ### print(node)\n",
        "    for child in Expand(problem, node):\n",
        "      s = tuple(child.State)\n",
        "      ### print (s, \"IsGoal=\", problem.IsGoal(s))\n",
        "      if problem.IsGoal(s):\n",
        "        return child, nodesExpanded\n",
        "      if s not in reached:\n",
        "        reached.add(s)\n",
        "        Frontier.append(child)\n",
        "    nodesExpanded += 1\n",
        "    if nodesExpanded > 500000:\n",
        "      break;\n",
        "  return None, nodesExpanded"
      ],
      "execution_count": 93,
      "outputs": []
    },
    {
      "cell_type": "markdown",
      "metadata": {
        "id": "AoX48XG6lFOf"
      },
      "source": [
        "## Best-First Search"
      ]
    },
    {
      "cell_type": "code",
      "metadata": {
        "id": "lUIAdr_qa1KT"
      },
      "source": [
        "def BestFirstSearch(problem, f):\n",
        "  node = Node(tuple(problem.INITIAL))\n",
        "  Frontier = []\n",
        "  heapq.heappush(Frontier,(f(node), node))\n",
        "  reached = {}\n",
        "  reached[tuple(problem.INITIAL)]=node\n",
        "  nodesExpanded = 0\n",
        "  while (Frontier):\n",
        "    ##print([(x, str(n)) for (x,n) in Frontier])\n",
        "    fValue, node = heapq.heappop(Frontier)\n",
        "    ##print (node.State, \"IsGoal=\", problem.IsGoal(tuple(node.State)))\n",
        "    if problem.IsGoal(tuple(node.State)):\n",
        "      return node, nodesExpanded    ### print(node)\n",
        "    for child in Expand(problem, node):\n",
        "      s = tuple(child.State)\n",
        "      if s not in reached or child.PathCost < reached[s].PathCost:\n",
        "        reached[s] = child\n",
        "        heapq.heappush(Frontier, (f(child), child))\n",
        "    nodesExpanded += 1\n",
        "    if nodesExpanded > 1000000:\n",
        "      break;\n",
        "  return None, nodesExpanded"
      ],
      "execution_count": 100,
      "outputs": []
    },
    {
      "cell_type": "markdown",
      "metadata": {
        "id": "kRjolRYslOa4"
      },
      "source": [
        "## Problem 1"
      ]
    },
    {
      "cell_type": "code",
      "metadata": {
        "colab": {
          "base_uri": "https://localhost:8080/"
        },
        "id": "dLWDIbmsRGY3",
        "outputId": "e41f2ff6-4617-4686-eddb-da74abd61a7d"
      },
      "source": [
        "TileSliding = Problem()\n",
        "TileSliding.INITIAL = InitialState\n",
        "TileSliding.IsGoal = lambda s: s==(1,2,3,4,5,6,7,8,0)\n",
        "TileSliding.Actions = Actions\n",
        "TileSliding.Result=Result\n",
        "TileSliding.ActionCost = lambda s, a, sPrime: 1\n",
        "print( TileSliding.IsGoal((1,2,3,4,5,6,7,8,0)) )\n",
        "print( Node(InitialState) )\n",
        "print(1+TileSliding.ActionCost(1,2,3))"
      ],
      "execution_count": 101,
      "outputs": [
        {
          "output_type": "stream",
          "name": "stdout",
          "text": [
            "True\n",
            "[1, 2, 3, 4, 5, 6, 7, 8, 9, 10, 11, 12, 13, 14, 15, 0], <none>\n",
            "2\n"
          ]
        }
      ]
    },
    {
      "cell_type": "code",
      "metadata": {
        "colab": {
          "base_uri": "https://localhost:8080/"
        },
        "id": "6VoIEO4c1gHz",
        "outputId": "048a3dc1-14e2-4fe1-d351-13892fb16e62"
      },
      "source": [
        "TileSliding.INITIAL = [1,2,3,4,5,6,0,7,8,9,10,11,12,13,14,15,0]\n",
        "ret, cost = BreadthFirstSearch(TileSliding)\n",
        "print (ret, cost)"
      ],
      "execution_count": 102,
      "outputs": [
        {
          "output_type": "stream",
          "name": "stdout",
          "text": [
            "None 500001\n"
          ]
        }
      ]
    },
    {
      "cell_type": "code",
      "metadata": {
        "id": "3hsBKY7Fle3w"
      },
      "source": [
        "def Solution(node):\n",
        "  if node.Parent==None:\n",
        "    return []\n",
        "  return Solution(node.Parent) + [node.Action]\n"
      ],
      "execution_count": 103,
      "outputs": []
    },
    {
      "cell_type": "code",
      "metadata": {
        "colab": {
          "base_uri": "https://localhost:8080/",
          "height": 297
        },
        "id": "rtr7Vr84NAfY",
        "outputId": "421d057e-d985-4aad-9856-6f3cbf9435c3"
      },
      "source": [
        "sol = Solution(ret)\n",
        "print (sol)\n",
        "print (TileSliding.INITIAL)\n",
        "print (ApplyMoves(sol, TileSliding.INITIAL))"
      ],
      "execution_count": 104,
      "outputs": [
        {
          "output_type": "error",
          "ename": "AttributeError",
          "evalue": "'NoneType' object has no attribute 'Parent'",
          "traceback": [
            "\u001b[0;31m---------------------------------------------------------------------------\u001b[0m",
            "\u001b[0;31mAttributeError\u001b[0m                            Traceback (most recent call last)",
            "\u001b[0;32m<ipython-input-104-0a72ab2aae9c>\u001b[0m in \u001b[0;36m<cell line: 0>\u001b[0;34m()\u001b[0m\n\u001b[0;32m----> 1\u001b[0;31m \u001b[0msol\u001b[0m \u001b[0;34m=\u001b[0m \u001b[0mSolution\u001b[0m\u001b[0;34m(\u001b[0m\u001b[0mret\u001b[0m\u001b[0;34m)\u001b[0m\u001b[0;34m\u001b[0m\u001b[0;34m\u001b[0m\u001b[0m\n\u001b[0m\u001b[1;32m      2\u001b[0m \u001b[0mprint\u001b[0m \u001b[0;34m(\u001b[0m\u001b[0msol\u001b[0m\u001b[0;34m)\u001b[0m\u001b[0;34m\u001b[0m\u001b[0;34m\u001b[0m\u001b[0m\n\u001b[1;32m      3\u001b[0m \u001b[0mprint\u001b[0m \u001b[0;34m(\u001b[0m\u001b[0mTileSliding\u001b[0m\u001b[0;34m.\u001b[0m\u001b[0mINITIAL\u001b[0m\u001b[0;34m)\u001b[0m\u001b[0;34m\u001b[0m\u001b[0;34m\u001b[0m\u001b[0m\n\u001b[1;32m      4\u001b[0m \u001b[0mprint\u001b[0m \u001b[0;34m(\u001b[0m\u001b[0mApplyMoves\u001b[0m\u001b[0;34m(\u001b[0m\u001b[0msol\u001b[0m\u001b[0;34m,\u001b[0m \u001b[0mTileSliding\u001b[0m\u001b[0;34m.\u001b[0m\u001b[0mINITIAL\u001b[0m\u001b[0;34m)\u001b[0m\u001b[0;34m)\u001b[0m\u001b[0;34m\u001b[0m\u001b[0;34m\u001b[0m\u001b[0m\n",
            "\u001b[0;32m<ipython-input-103-d0718ff9ea18>\u001b[0m in \u001b[0;36mSolution\u001b[0;34m(node)\u001b[0m\n\u001b[1;32m      1\u001b[0m \u001b[0;32mdef\u001b[0m \u001b[0mSolution\u001b[0m\u001b[0;34m(\u001b[0m\u001b[0mnode\u001b[0m\u001b[0;34m)\u001b[0m\u001b[0;34m:\u001b[0m\u001b[0;34m\u001b[0m\u001b[0;34m\u001b[0m\u001b[0m\n\u001b[0;32m----> 2\u001b[0;31m   \u001b[0;32mif\u001b[0m \u001b[0mnode\u001b[0m\u001b[0;34m.\u001b[0m\u001b[0mParent\u001b[0m\u001b[0;34m==\u001b[0m\u001b[0;32mNone\u001b[0m\u001b[0;34m:\u001b[0m\u001b[0;34m\u001b[0m\u001b[0;34m\u001b[0m\u001b[0m\n\u001b[0m\u001b[1;32m      3\u001b[0m     \u001b[0;32mreturn\u001b[0m \u001b[0;34m[\u001b[0m\u001b[0;34m]\u001b[0m\u001b[0;34m\u001b[0m\u001b[0;34m\u001b[0m\u001b[0m\n\u001b[1;32m      4\u001b[0m   \u001b[0;32mreturn\u001b[0m \u001b[0mSolution\u001b[0m\u001b[0;34m(\u001b[0m\u001b[0mnode\u001b[0m\u001b[0;34m.\u001b[0m\u001b[0mParent\u001b[0m\u001b[0;34m)\u001b[0m \u001b[0;34m+\u001b[0m \u001b[0;34m[\u001b[0m\u001b[0mnode\u001b[0m\u001b[0;34m.\u001b[0m\u001b[0mAction\u001b[0m\u001b[0;34m]\u001b[0m\u001b[0;34m\u001b[0m\u001b[0;34m\u001b[0m\u001b[0m\n",
            "\u001b[0;31mAttributeError\u001b[0m: 'NoneType' object has no attribute 'Parent'"
          ]
        }
      ]
    },
    {
      "cell_type": "code",
      "metadata": {
        "id": "RDE3dNP8NOU7"
      },
      "source": [
        "TileSliding.INITIAL = [1,2,3,4,0,6,7,5,8,9,10,11,12,13,14,15,0]\n",
        "ret, cost = BreadthFirstSearch(TileSliding)\n",
        "print (ret, cost)"
      ],
      "execution_count": null,
      "outputs": []
    },
    {
      "cell_type": "code",
      "metadata": {
        "colab": {
          "base_uri": "https://localhost:8080/"
        },
        "id": "YBkLupiYNyZ_",
        "outputId": "2803da74-f142-4bb4-aaeb-47a085d8d44b"
      },
      "source": [
        "sol = Solution(ret)\n",
        "print (sol)\n",
        "print (TileSliding.INITIAL)\n",
        "print (ApplyMoves(sol, TileSliding.INITIAL))"
      ],
      "execution_count": 34,
      "outputs": [
        {
          "output_type": "stream",
          "name": "stdout",
          "text": [
            "['d', 'r']\n",
            "[1, 2, 3, 4, 0, 6, 7, 5, 8]\n",
            "[1, 2, 3, 4, 5, 6, 7, 8, 0]\n"
          ]
        }
      ]
    },
    {
      "cell_type": "code",
      "metadata": {
        "colab": {
          "base_uri": "https://localhost:8080/"
        },
        "id": "GXdlMLxwhxMF",
        "outputId": "c7e091d8-ba1c-4778-92af-d860a66a9123"
      },
      "source": [
        "UniformCostF = lambda n: n.PathCost\n",
        "AStarF = lambda n: n.PathCost+ManhattanDistance(n.State, GoalState)\n",
        "TileSliding.INITIAL = [1,2,3,4,0,6,7,5,8,9,10,11,12,13,14,15,0]\n",
        "ret, cost = BestFirstSearch(TileSliding, UniformCostF)\n",
        "print (ret)\n",
        "sol = Solution(ret)\n",
        "print (sol)\n",
        "print (TileSliding.INITIAL)\n",
        "print (ApplyMoves(sol, TileSliding.INITIAL))\n",
        "print (\"Nodes Expanded=\", cost)"
      ],
      "execution_count": 35,
      "outputs": [
        {
          "output_type": "stream",
          "name": "stdout",
          "text": [
            "[1, 2, 3, 4, 5, 6, 7, 8, 0], r\n",
            "['d', 'r']\n",
            "[1, 2, 3, 4, 0, 6, 7, 5, 8]\n",
            "[1, 2, 3, 4, 5, 6, 7, 8, 0]\n",
            "Nodes Expanded= 8\n"
          ]
        }
      ]
    },
    {
      "cell_type": "markdown",
      "metadata": {
        "id": "bu6svMo0n9Pc"
      },
      "source": [
        "# Problem 2"
      ]
    },
    {
      "cell_type": "code",
      "metadata": {
        "colab": {
          "base_uri": "https://localhost:8080/"
        },
        "id": "rXzEVLYEn8m1",
        "outputId": "44d4438a-db12-4e62-967b-d1c5a50a6e3c"
      },
      "source": [
        "state1, sol = RandomWalk(GoalState, 300)\n",
        "PrintState(state1)\n",
        "print (sol)\n",
        "print(ReverseMoves(sol))\n",
        "PrintState (ApplyMoves(ReverseMoves(sol), state1))"
      ],
      "execution_count": 36,
      "outputs": [
        {
          "output_type": "stream",
          "name": "stdout",
          "text": [
            "[8, 1, 3]\n",
            "[7, 0, 4]\n",
            "[5, 2, 6]\n",
            "['l', 'l', 'u', 'r', 'd', 'l', 'u', 'r', 'u', 'r', 'd', 'd', 'l', 'u', 'l', 'd', 'r', 'u', 'r', 'd', 'l', 'l', 'u', 'r', 'r', 'd', 'l', 'l', 'u', 'u', 'r', 'd', 'l', 'u', 'r', 'r', 'd', 'd', 'l', 'l', 'u', 'r', 'd', 'l', 'u', 'u', 'r', 'r', 'd', 'd', 'l', 'l', 'u', 'u', 'r', 'd', 'r', 'u', 'l', 'l', 'd', 'r', 'r', 'u', 'l', 'l', 'd', 'd', 'r', 'u', 'u', 'r', 'd', 'l', 'u', 'r', 'd', 'l', 'd', 'r', 'u', 'l', 'u', 'r', 'd', 'l', 'd', 'r', 'u', 'u', 'l', 'l', 'd', 'r', 'r', 'd', 'l', 'u', 'u', 'l', 'd', 'r', 'u', 'l', 'd', 'd', 'r', 'r', 'u', 'u', 'l', 'l', 'd', 'd', 'r', 'u', 'l', 'd', 'r', 'r', 'u', 'u', 'l', 'l', 'd', 'r', 'u', 'r', 'd', 'd', 'l', 'u', 'u', 'r', 'd', 'd', 'l', 'u', 'u', 'r', 'd', 'd', 'l', 'l', 'u', 'r', 'd', 'r', 'u', 'l', 'u', 'r', 'd', 'l', 'l', 'd', 'r', 'r', 'u', 'l', 'd', 'l', 'u', 'r', 'r', 'd', 'l', 'u', 'r', 'd', 'l', 'u', 'r', 'u', 'l', 'd', 'r', 'd', 'l', 'l', 'u', 'r', 'u', 'l', 'd', 'r', 'u', 'r', 'd', 'l', 'u', 'l', 'd', 'd', 'r', 'r', 'u', 'u', 'l', 'd', 'd', 'r', 'u', 'u', 'l', 'l', 'd', 'r', 'r', 'd', 'l', 'u', 'u', 'l', 'd', 'r', 'd', 'r', 'u', 'l', 'u', 'l', 'd', 'r', 'd', 'l', 'u', 'r', 'u', 'l', 'd', 'r', 'r', 'd', 'l', 'u', 'u', 'r', 'd', 'l', 'l', 'u', 'r', 'r', 'd', 'l', 'd', 'l', 'u', 'r', 'u', 'l', 'd', 'r', 'r', 'd', 'l', 'u', 'u', 'l', 'd', 'd', 'r', 'r', 'u', 'l', 'd', 'r', 'u', 'u', 'l', 'l', 'd', 'd', 'r', 'r', 'u', 'u', 'l', 'd', 'l', 'u', 'r', 'r', 'd', 'l', 'd', 'l', 'u', 'r', 'd', 'r', 'u', 'u', 'l', 'l', 'd', 'd', 'r', 'u']\n",
            "['d', 'l', 'u', 'u', 'r', 'r', 'd', 'd', 'l', 'u', 'l', 'd', 'r', 'u', 'r', 'u', 'l', 'l', 'd', 'r', 'u', 'r', 'd', 'd', 'l', 'l', 'u', 'u', 'r', 'r', 'd', 'd', 'l', 'u', 'r', 'd', 'l', 'l', 'u', 'u', 'r', 'd', 'd', 'r', 'u', 'l', 'l', 'u', 'r', 'd', 'l', 'd', 'r', 'u', 'r', 'u', 'l', 'l', 'd', 'r', 'r', 'u', 'l', 'd', 'd', 'r', 'u', 'l', 'l', 'u', 'r', 'd', 'l', 'd', 'r', 'u', 'l', 'u', 'r', 'd', 'r', 'd', 'l', 'u', 'l', 'u', 'r', 'd', 'd', 'r', 'u', 'l', 'l', 'u', 'r', 'r', 'd', 'd', 'l', 'u', 'u', 'r', 'd', 'd', 'l', 'l', 'u', 'u', 'r', 'd', 'r', 'u', 'l', 'd', 'l', 'u', 'r', 'd', 'l', 'd', 'r', 'r', 'u', 'l', 'u', 'r', 'd', 'l', 'd', 'r', 'u', 'l', 'd', 'r', 'u', 'l', 'l', 'd', 'r', 'u', 'r', 'd', 'l', 'l', 'u', 'r', 'r', 'u', 'l', 'd', 'r', 'd', 'l', 'u', 'l', 'd', 'r', 'r', 'u', 'u', 'l', 'd', 'd', 'r', 'u', 'u', 'l', 'd', 'd', 'r', 'u', 'u', 'l', 'd', 'l', 'u', 'r', 'r', 'd', 'd', 'l', 'l', 'u', 'r', 'd', 'l', 'u', 'u', 'r', 'r', 'd', 'd', 'l', 'l', 'u', 'u', 'r', 'd', 'l', 'u', 'r', 'd', 'd', 'r', 'u', 'l', 'l', 'u', 'r', 'r', 'd', 'd', 'l', 'u', 'r', 'u', 'l', 'd', 'r', 'd', 'l', 'u', 'r', 'u', 'l', 'd', 'r', 'u', 'l', 'd', 'd', 'l', 'u', 'u', 'r', 'r', 'd', 'l', 'l', 'u', 'r', 'r', 'd', 'l', 'u', 'l', 'd', 'd', 'r', 'r', 'u', 'u', 'l', 'l', 'd', 'd', 'r', 'u', 'l', 'd', 'r', 'r', 'u', 'u', 'l', 'l', 'd', 'r', 'u', 'l', 'd', 'd', 'r', 'r', 'u', 'l', 'l', 'd', 'r', 'r', 'u', 'l', 'd', 'l', 'u', 'r', 'd', 'r', 'u', 'u', 'l', 'd', 'l', 'd', 'r', 'u', 'l', 'd', 'r', 'r']\n",
            "[1, 2, 3]\n",
            "[4, 5, 6]\n",
            "[7, 8, 0]\n"
          ]
        }
      ]
    },
    {
      "cell_type": "code",
      "metadata": {
        "colab": {
          "base_uri": "https://localhost:8080/"
        },
        "id": "tKnMcesqoCss",
        "outputId": "793e6fcc-55f7-42c3-d1ae-3d9f9370f67b"
      },
      "source": [
        "TileSliding.INITIAL = state1\n",
        "ret, cost = BreadthFirstSearch(TileSliding)\n",
        "print (ret)\n",
        "sol = Solution(ret)\n",
        "print (sol)\n",
        "print (TileSliding.INITIAL)\n",
        "print (ApplyMoves(sol, TileSliding.INITIAL))\n",
        "print (\"Length of solution: \", len(sol))\n",
        "print (\"Nodes Expanded=\", cost)"
      ],
      "execution_count": 37,
      "outputs": [
        {
          "output_type": "stream",
          "name": "stdout",
          "text": [
            "[1, 2, 3, 4, 5, 6, 7, 8, 0], r\n",
            "['d', 'l', 'u', 'u', 'r', 'd', 'l', 'd', 'r', 'u', 'r', 'd', 'l', 'l', 'u', 'r', 'd', 'r']\n",
            "[8, 1, 3, 7, 0, 4, 5, 2, 6]\n",
            "[1, 2, 3, 4, 5, 6, 7, 8, 0]\n",
            "Length of solution:  18\n",
            "Nodes Expanded= 16728\n"
          ]
        }
      ]
    },
    {
      "cell_type": "code",
      "metadata": {
        "colab": {
          "base_uri": "https://localhost:8080/"
        },
        "id": "k24bl418eL5m",
        "outputId": "4c14aa5c-7485-40a1-8fb9-50212c8d9a57"
      },
      "source": [
        "UniformCostF = lambda n: n.PathCost\n",
        "TileSliding.INITIAL = state1\n",
        "ret, cost = BestFirstSearch(TileSliding, UniformCostF)\n",
        "print (ret)\n",
        "sol = Solution(ret)\n",
        "print (sol)\n",
        "print (TileSliding.INITIAL)\n",
        "print (ApplyMoves(sol, TileSliding.INITIAL))\n",
        "print (\"Length of solution: \", len(sol))\n",
        "print (\"Nodes Expanded=\", cost)"
      ],
      "execution_count": 38,
      "outputs": [
        {
          "output_type": "stream",
          "name": "stdout",
          "text": [
            "[1, 2, 3, 4, 5, 6, 7, 8, 0], r\n",
            "['d', 'l', 'u', 'u', 'r', 'd', 'l', 'd', 'r', 'u', 'r', 'd', 'l', 'l', 'u', 'r', 'd', 'r']\n",
            "[8, 1, 3, 7, 0, 4, 5, 2, 6]\n",
            "[1, 2, 3, 4, 5, 6, 7, 8, 0]\n",
            "Length of solution:  18\n",
            "Nodes Expanded= 25750\n"
          ]
        }
      ]
    },
    {
      "cell_type": "markdown",
      "metadata": {
        "id": "tdtWdXGlXFGG"
      },
      "source": [
        "# Problem List"
      ]
    },
    {
      "cell_type": "code",
      "metadata": {
        "colab": {
          "base_uri": "https://localhost:8080/"
        },
        "id": "iDhmyFXQXI3N",
        "outputId": "39bbef2b-96a1-4083-b705-de771b42c82c"
      },
      "source": [
        "findNum = 10\n",
        "randomWalkDistance = 300\n",
        "problemList = []\n",
        "for i in range(10):\n",
        "  state1, sol = RandomWalk(GoalState, 300)\n",
        "  problemList.append(state1)\n",
        "print (problemList)"
      ],
      "execution_count": 39,
      "outputs": [
        {
          "output_type": "stream",
          "name": "stdout",
          "text": [
            "[[4, 3, 0, 6, 8, 7, 5, 2, 1], [3, 4, 5, 8, 1, 7, 0, 2, 6], [1, 5, 7, 2, 0, 6, 8, 4, 3], [6, 8, 7, 3, 0, 1, 2, 4, 5], [3, 8, 7, 4, 5, 6, 0, 2, 1], [0, 6, 2, 7, 4, 3, 8, 5, 1], [0, 6, 3, 8, 5, 7, 2, 4, 1], [7, 5, 3, 1, 8, 4, 0, 2, 6], [7, 6, 8, 5, 2, 3, 0, 1, 4], [5, 7, 3, 4, 1, 8, 6, 2, 0]]\n"
          ]
        }
      ]
    },
    {
      "cell_type": "markdown",
      "metadata": {
        "id": "TpdrxwA8UvFn"
      },
      "source": [
        "### Breadth First Search w/ Test Problems"
      ]
    },
    {
      "cell_type": "code",
      "metadata": {
        "colab": {
          "base_uri": "https://localhost:8080/"
        },
        "id": "xrni2RRIXkfU",
        "outputId": "969c2a08-0230-4a14-b9db-1c1650000800"
      },
      "source": [
        "testProblems = [[5, 3, 0, 4, 7, 6, 2, 1, 8], [3, 2, 0, 1, 5, 4, 7, 8, 6], [0, 1, 3, 8, 5, 2, 6, 7, 4],\n",
        "                [3, 7, 6, 2, 4, 1, 8, 5, 0], [6, 7, 5, 8, 0, 1, 2, 3, 4], [7, 4, 6, 8, 0, 1, 3, 2, 5],\n",
        "                [0, 1, 8, 3, 5, 2, 6, 4, 7], [0, 4, 6, 5, 8, 1, 7, 2, 3], [1, 5, 7, 6, 0, 3, 4, 2, 8],\n",
        "                [0, 2, 4, 1, 7, 6, 3, 5, 8]]\n",
        "\n",
        "Solutions = []\n",
        "for s in testProblems:\n",
        "  TileSliding.INITIAL = s\n",
        "  ret, cost = BreadthFirstSearch(TileSliding)\n",
        "  sol = Solution(ret)\n",
        "  print (sol)\n",
        "  print (\"-----------------------\")\n",
        "  print (TileSliding.INITIAL,'\\n')\n",
        "  print (ApplyMoves(sol, TileSliding.INITIAL))\n",
        "  print (\"Length of solution: \", len(sol))\n",
        "  print (\"Nodes Expanded=\", cost)\n",
        "  print (\"-----------------------\")\n",
        "  Solutions.append((''.join(map(str, s)), ''.join(sol), cost))\n",
        "print (\"-------\")\n",
        "print (Solutions)\n"
      ],
      "execution_count": 40,
      "outputs": [
        {
          "output_type": "stream",
          "name": "stdout",
          "text": [
            "['l', 'd', 'l', 'd', 'r', 'u', 'u', 'l', 'd', 'd', 'r', 'u', 'u', 'l', 'd', 'd', 'r', 'r']\n",
            "-----------------------\n",
            "[5, 3, 0, 4, 7, 6, 2, 1, 8] \n",
            "\n",
            "[1, 2, 3, 4, 5, 6, 7, 8, 0]\n",
            "Length of solution:  18\n",
            "Nodes Expanded= 15775\n",
            "-----------------------\n",
            "['l', 'd', 'r', 'u', 'l', 'l', 'd', 'r', 'r', 'u', 'l', 'd', 'r', 'd']\n",
            "-----------------------\n",
            "[3, 2, 0, 1, 5, 4, 7, 8, 6] \n",
            "\n",
            "[1, 2, 3, 4, 5, 6, 7, 8, 0]\n",
            "Length of solution:  14\n",
            "Nodes Expanded= 2645\n",
            "-----------------------\n",
            "['d', 'd', 'r', 'u', 'r', 'd', 'l', 'l', 'u', 'u', 'r', 'd', 'd', 'l', 'u', 'r', 'r', 'd', 'l', 'l', 'u', 'r', 'r', 'd']\n",
            "-----------------------\n",
            "[0, 1, 3, 8, 5, 2, 6, 7, 4] \n",
            "\n",
            "[1, 2, 3, 4, 5, 6, 7, 8, 0]\n",
            "Length of solution:  24\n",
            "Nodes Expanded= 99562\n",
            "-----------------------\n",
            "['u', 'l', 'u', 'l', 'd', 'r', 'r', 'u', 'l', 'd', 'd', 'r', 'u', 'l', 'd', 'l', 'u', 'r', 'u', 'l', 'd', 'r', 'r', 'd']\n",
            "-----------------------\n",
            "[3, 7, 6, 2, 4, 1, 8, 5, 0] \n",
            "\n",
            "[1, 2, 3, 4, 5, 6, 7, 8, 0]\n",
            "Length of solution:  24\n",
            "Nodes Expanded= 102839\n",
            "-----------------------\n",
            "['u', 'r', 'd', 'l', 'd', 'r', 'u', 'l', 'l', 'u', 'r', 'r', 'd', 'l', 'l', 'd', 'r', 'r', 'u', 'l', 'l', 'u', 'r', 'd', 'l', 'd', 'r', 'r']\n",
            "-----------------------\n",
            "[6, 7, 5, 8, 0, 1, 2, 3, 4] \n",
            "\n",
            "[1, 2, 3, 4, 5, 6, 7, 8, 0]\n",
            "Length of solution:  28\n",
            "Nodes Expanded= 176504\n",
            "-----------------------\n",
            "['d', 'l', 'u', 'u', 'r', 'd', 'r', 'u', 'l', 'd', 'd', 'r', 'u', 'l', 'd', 'l', 'u', 'u', 'r', 'r', 'd', 'd']\n",
            "-----------------------\n",
            "[7, 4, 6, 8, 0, 1, 3, 2, 5] \n",
            "\n",
            "[1, 2, 3, 4, 5, 6, 7, 8, 0]\n",
            "Length of solution:  22\n",
            "Nodes Expanded= 70228\n",
            "-----------------------\n",
            "['r', 'r', 'd', 'l', 'l', 'd', 'r', 'r', 'u', 'l', 'u', 'r', 'd', 'l', 'l', 'd', 'r', 'r', 'u', 'l', 'd', 'r']\n",
            "-----------------------\n",
            "[0, 1, 8, 3, 5, 2, 6, 4, 7] \n",
            "\n",
            "[1, 2, 3, 4, 5, 6, 7, 8, 0]\n",
            "Length of solution:  22\n",
            "Nodes Expanded= 71840\n",
            "-----------------------\n",
            "['r', 'r', 'd', 'l', 'd', 'r', 'u', 'l', 'u', 'r', 'd', 'l', 'd', 'r', 'u', 'l', 'l', 'u', 'r', 'r', 'd', 'd']\n",
            "-----------------------\n",
            "[0, 4, 6, 5, 8, 1, 7, 2, 3] \n",
            "\n",
            "[1, 2, 3, 4, 5, 6, 7, 8, 0]\n",
            "Length of solution:  22\n",
            "Nodes Expanded= 71233\n",
            "-----------------------\n",
            "['d', 'r', 'u', 'u', 'l', 'd', 'r', 'd', 'l', 'u', 'l', 'u', 'r', 'r', 'd', 'l', 'u', 'l', 'd', 'd', 'r', 'r']\n",
            "-----------------------\n",
            "[1, 5, 7, 6, 0, 3, 4, 2, 8] \n",
            "\n",
            "[1, 2, 3, 4, 5, 6, 7, 8, 0]\n",
            "Length of solution:  22\n",
            "Nodes Expanded= 72942\n",
            "-----------------------\n",
            "['d', 'd', 'r', 'u', 'l', 'd', 'r', 'r', 'u', 'l', 'l', 'u', 'r', 'r', 'd', 'l', 'u', 'l', 'd', 'r', 'r', 'd']\n",
            "-----------------------\n",
            "[0, 2, 4, 1, 7, 6, 3, 5, 8] \n",
            "\n",
            "[1, 2, 3, 4, 5, 6, 7, 8, 0]\n",
            "Length of solution:  22\n",
            "Nodes Expanded= 56648\n",
            "-----------------------\n",
            "-------\n",
            "[('530476218', 'ldldruulddruulddrr', 15775), ('320154786', 'ldrulldrruldrd', 2645), ('013852674', 'ddrurdlluurddlurrdllurrd', 99562), ('376241850', 'ululdrrulddruldluruldrrd', 102839), ('675801234', 'urdldrullurrdlldrrullurdldrr', 176504), ('746801325', 'dluurdrulddruldluurrdd', 70228), ('018352647', 'rrdlldrrulurdlldrruldr', 71840), ('046581723', 'rrdldrulurdldrullurrdd', 71233), ('157603428', 'druuldrdlulurrdlulddrr', 72942), ('024176358', 'ddruldrrullurrdluldrrd', 56648)]\n"
          ]
        }
      ]
    },
    {
      "cell_type": "markdown",
      "metadata": {
        "id": "YLVN3sTkU0jw"
      },
      "source": [
        "### Uniform Cost Search w/ Test Problems"
      ]
    },
    {
      "cell_type": "code",
      "metadata": {
        "colab": {
          "base_uri": "https://localhost:8080/"
        },
        "id": "LsWVfbeLRYfO",
        "outputId": "1a586f90-d948-4fdb-9960-1746cec405df"
      },
      "source": [
        "UniformCostF = lambda n: n.PathCost\n",
        "testProblems = [[5, 3, 0, 4, 7, 6, 2, 1, 8], [3, 2, 0, 1, 5, 4, 7, 8, 6], [0, 1, 3, 8, 5, 2, 6, 7, 4],\n",
        "                [3, 7, 6, 2, 4, 1, 8, 5, 0], [6, 7, 5, 8, 0, 1, 2, 3, 4], [7, 4, 6, 8, 0, 1, 3, 2, 5],\n",
        "                [0, 1, 8, 3, 5, 2, 6, 4, 7], [0, 4, 6, 5, 8, 1, 7, 2, 3], [1, 5, 7, 6, 0, 3, 4, 2, 8],\n",
        "                [0, 2, 4, 1, 7, 6, 3, 5, 8]]\n",
        "\n",
        "Solutions = []\n",
        "for s in testProblems:\n",
        "  TileSliding.INITIAL = s\n",
        "  ret, cost = BestFirstSearch(TileSliding, UniformCostF)\n",
        "  sol = Solution(ret)\n",
        "  print (sol)\n",
        "  print (\"-----------------------\")\n",
        "  print (TileSliding.INITIAL,'\\n')\n",
        "  print (ApplyMoves(sol, TileSliding.INITIAL))\n",
        "  print (\"Length of solution: \", len(sol))\n",
        "  print (\"Nodes Expanded=\", cost)\n",
        "  print (\"-----------------------\")\n",
        "  Solutions.append((''.join(map(str, s)), ''.join(sol), cost))\n",
        "print (\"-------\")\n",
        "print (Solutions)"
      ],
      "execution_count": 41,
      "outputs": [
        {
          "output_type": "stream",
          "name": "stdout",
          "text": [
            "['l', 'l', 'd', 'd', 'r', 'u', 'u', 'l', 'd', 'd', 'r', 'u', 'u', 'l', 'd', 'r', 'd', 'r']\n",
            "-----------------------\n",
            "[5, 3, 0, 4, 7, 6, 2, 1, 8] \n",
            "\n",
            "[1, 2, 3, 4, 5, 6, 7, 8, 0]\n",
            "Length of solution:  18\n",
            "Nodes Expanded= 22919\n",
            "-----------------------\n",
            "['l', 'd', 'r', 'u', 'l', 'l', 'd', 'r', 'r', 'u', 'l', 'd', 'r', 'd']\n",
            "-----------------------\n",
            "[3, 2, 0, 1, 5, 4, 7, 8, 6] \n",
            "\n",
            "[1, 2, 3, 4, 5, 6, 7, 8, 0]\n",
            "Length of solution:  14\n",
            "Nodes Expanded= 4754\n",
            "-----------------------\n",
            "['r', 'd', 'd', 'l', 'u', 'r', 'r', 'd', 'l', 'l', 'u', 'u', 'r', 'd', 'r', 'u', 'l', 'l', 'd', 'r', 'u', 'r', 'd', 'd']\n",
            "-----------------------\n",
            "[0, 1, 3, 8, 5, 2, 6, 7, 4] \n",
            "\n",
            "[1, 2, 3, 4, 5, 6, 7, 8, 0]\n",
            "Length of solution:  24\n",
            "Nodes Expanded= 120796\n",
            "-----------------------\n",
            "['u', 'l', 'u', 'l', 'd', 'r', 'r', 'u', 'l', 'd', 'd', 'r', 'u', 'l', 'd', 'l', 'u', 'r', 'u', 'l', 'd', 'r', 'r', 'd']\n",
            "-----------------------\n",
            "[3, 7, 6, 2, 4, 1, 8, 5, 0] \n",
            "\n",
            "[1, 2, 3, 4, 5, 6, 7, 8, 0]\n",
            "Length of solution:  24\n",
            "Nodes Expanded= 121538\n",
            "-----------------------\n",
            "['d', 'l', 'u', 'u', 'r', 'd', 'r', 'u', 'l', 'd', 'l', 'u', 'r', 'r', 'd', 'l', 'd', 'r', 'u', 'u', 'l', 'd', 'd', 'l', 'u', 'r', 'r', 'd']\n",
            "-----------------------\n",
            "[6, 7, 5, 8, 0, 1, 2, 3, 4] \n",
            "\n",
            "[1, 2, 3, 4, 5, 6, 7, 8, 0]\n",
            "Length of solution:  28\n",
            "Nodes Expanded= 179157\n",
            "-----------------------\n",
            "['d', 'l', 'u', 'u', 'r', 'd', 'r', 'u', 'l', 'd', 'd', 'r', 'u', 'l', 'd', 'l', 'u', 'u', 'r', 'r', 'd', 'd']\n",
            "-----------------------\n",
            "[7, 4, 6, 8, 0, 1, 3, 2, 5] \n",
            "\n",
            "[1, 2, 3, 4, 5, 6, 7, 8, 0]\n",
            "Length of solution:  22\n",
            "Nodes Expanded= 92946\n",
            "-----------------------\n",
            "['r', 'r', 'd', 'l', 'l', 'd', 'r', 'r', 'u', 'l', 'l', 'd', 'r', 'u', 'u', 'r', 'd', 'd', 'l', 'u', 'r', 'd']\n",
            "-----------------------\n",
            "[0, 1, 8, 3, 5, 2, 6, 4, 7] \n",
            "\n",
            "[1, 2, 3, 4, 5, 6, 7, 8, 0]\n",
            "Length of solution:  22\n",
            "Nodes Expanded= 72788\n",
            "-----------------------\n",
            "['r', 'r', 'd', 'l', 'd', 'r', 'u', 'l', 'u', 'r', 'd', 'l', 'd', 'r', 'u', 'l', 'l', 'u', 'r', 'r', 'd', 'd']\n",
            "-----------------------\n",
            "[0, 4, 6, 5, 8, 1, 7, 2, 3] \n",
            "\n",
            "[1, 2, 3, 4, 5, 6, 7, 8, 0]\n",
            "Length of solution:  22\n",
            "Nodes Expanded= 82015\n",
            "-----------------------\n",
            "['r', 'u', 'l', 'd', 'r', 'd', 'l', 'u', 'l', 'd', 'r', 'u', 'r', 'd', 'l', 'u', 'r', 'u', 'l', 'd', 'r', 'd']\n",
            "-----------------------\n",
            "[1, 5, 7, 6, 0, 3, 4, 2, 8] \n",
            "\n",
            "[1, 2, 3, 4, 5, 6, 7, 8, 0]\n",
            "Length of solution:  22\n",
            "Nodes Expanded= 86853\n",
            "-----------------------\n",
            "['d', 'r', 'd', 'l', 'u', 'u', 'r', 'd', 'd', 'r', 'u', 'u', 'l', 'd', 'r', 'u', 'l', 'l', 'd', 'r', 'r', 'd']\n",
            "-----------------------\n",
            "[0, 2, 4, 1, 7, 6, 3, 5, 8] \n",
            "\n",
            "[1, 2, 3, 4, 5, 6, 7, 8, 0]\n",
            "Length of solution:  22\n",
            "Nodes Expanded= 77754\n",
            "-----------------------\n",
            "-------\n",
            "[('530476218', 'llddruulddruuldrdr', 22919), ('320154786', 'ldrulldrruldrd', 4754), ('013852674', 'rddlurrdlluurdrulldrurdd', 120796), ('376241850', 'ululdrrulddruldluruldrrd', 121538), ('675801234', 'dluurdruldlurrdldruulddlurrd', 179157), ('746801325', 'dluurdrulddruldluurrdd', 92946), ('018352647', 'rrdlldrrulldruurddlurd', 72788), ('046581723', 'rrdldrulurdldrullurrdd', 82015), ('157603428', 'ruldrdluldrurdluruldrd', 86853), ('024176358', 'drdluurddruuldrulldrrd', 77754)]\n"
          ]
        }
      ]
    },
    {
      "cell_type": "markdown",
      "metadata": {
        "id": "p8yiFsHoU6sf"
      },
      "source": [
        "### AStar using ManhattanDistance w/ Test Problems"
      ]
    },
    {
      "cell_type": "code",
      "metadata": {
        "colab": {
          "base_uri": "https://localhost:8080/"
        },
        "id": "6VD8LuUJRhxU",
        "outputId": "5267d221-2660-4e9f-83f9-6e38d33f0c16"
      },
      "source": [
        "AStarFb = lambda n: n.PathCost + Manhattan(n.State, GoalState)\n",
        "testProblems = [[5, 3, 0, 4, 7, 6, 2, 1, 8], [3, 2, 0, 1, 5, 4, 7, 8, 6], [0, 1, 3, 8, 5, 2, 6, 7, 4],\n",
        "                [3, 7, 6, 2, 4, 1, 8, 5, 0], [6, 7, 5, 8, 0, 1, 2, 3, 4], [7, 4, 6, 8, 0, 1, 3, 2, 5],\n",
        "                [0, 1, 8, 3, 5, 2, 6, 4, 7], [0, 4, 6, 5, 8, 1, 7, 2, 3], [1, 5, 7, 6, 0, 3, 4, 2, 8],\n",
        "                [0, 2, 4, 1, 7, 6, 3, 5, 8]]\n",
        "\n",
        "Solutions = []\n",
        "for s in testProblems:\n",
        "  TileSliding.INITIAL = s\n",
        "  ret, cost = BestFirstSearch(TileSliding, AStarF)\n",
        "  sol = Solution(ret)\n",
        "  print (sol)\n",
        "  print (\"-----------------------\")\n",
        "  print (TileSliding.INITIAL,'\\n')\n",
        "  print (ApplyMoves(sol, TileSliding.INITIAL))\n",
        "  print (\"Length of solution: \", len(sol))\n",
        "  print (\"Nodes Expanded=\", cost)\n",
        "  print (\"-----------------------\")\n",
        "  Solutions.append((''.join(map(str, s)), ''.join(sol), cost))\n",
        "print (\"-------\")\n",
        "print (Solutions)"
      ],
      "execution_count": 42,
      "outputs": [
        {
          "output_type": "stream",
          "name": "stdout",
          "text": [
            "['l', 'l', 'd', 'd', 'r', 'u', 'u', 'l', 'd', 'd', 'r', 'u', 'u', 'l', 'd', 'r', 'd', 'r']\n",
            "-----------------------\n",
            "[5, 3, 0, 4, 7, 6, 2, 1, 8] \n",
            "\n",
            "[1, 2, 3, 4, 5, 6, 7, 8, 0]\n",
            "Length of solution:  18\n",
            "Nodes Expanded= 251\n",
            "-----------------------\n",
            "['l', 'd', 'r', 'u', 'l', 'l', 'd', 'r', 'r', 'u', 'l', 'd', 'r', 'd']\n",
            "-----------------------\n",
            "[3, 2, 0, 1, 5, 4, 7, 8, 6] \n",
            "\n",
            "[1, 2, 3, 4, 5, 6, 7, 8, 0]\n",
            "Length of solution:  14\n",
            "Nodes Expanded= 92\n",
            "-----------------------\n",
            "['d', 'd', 'r', 'u', 'r', 'd', 'l', 'l', 'u', 'u', 'r', 'd', 'd', 'l', 'u', 'r', 'r', 'd', 'l', 'l', 'u', 'r', 'r', 'd']\n",
            "-----------------------\n",
            "[0, 1, 3, 8, 5, 2, 6, 7, 4] \n",
            "\n",
            "[1, 2, 3, 4, 5, 6, 7, 8, 0]\n",
            "Length of solution:  24\n",
            "Nodes Expanded= 2798\n",
            "-----------------------\n",
            "['u', 'l', 'u', 'l', 'd', 'r', 'r', 'u', 'l', 'd', 'd', 'r', 'u', 'l', 'd', 'l', 'u', 'r', 'u', 'l', 'd', 'r', 'r', 'd']\n",
            "-----------------------\n",
            "[3, 7, 6, 2, 4, 1, 8, 5, 0] \n",
            "\n",
            "[1, 2, 3, 4, 5, 6, 7, 8, 0]\n",
            "Length of solution:  24\n",
            "Nodes Expanded= 1769\n",
            "-----------------------\n",
            "['d', 'l', 'u', 'u', 'r', 'd', 'r', 'u', 'l', 'd', 'l', 'u', 'r', 'r', 'd', 'l', 'd', 'r', 'u', 'u', 'l', 'd', 'd', 'l', 'u', 'r', 'r', 'd']\n",
            "-----------------------\n",
            "[6, 7, 5, 8, 0, 1, 2, 3, 4] \n",
            "\n",
            "[1, 2, 3, 4, 5, 6, 7, 8, 0]\n",
            "Length of solution:  28\n",
            "Nodes Expanded= 7654\n",
            "-----------------------\n",
            "['d', 'l', 'u', 'u', 'r', 'd', 'r', 'u', 'l', 'd', 'd', 'r', 'u', 'l', 'd', 'l', 'u', 'u', 'r', 'r', 'd', 'd']\n",
            "-----------------------\n",
            "[7, 4, 6, 8, 0, 1, 3, 2, 5] \n",
            "\n",
            "[1, 2, 3, 4, 5, 6, 7, 8, 0]\n",
            "Length of solution:  22\n",
            "Nodes Expanded= 641\n",
            "-----------------------\n",
            "['r', 'r', 'd', 'l', 'l', 'd', 'r', 'r', 'u', 'l', 'u', 'r', 'd', 'l', 'l', 'd', 'r', 'r', 'u', 'l', 'd', 'r']\n",
            "-----------------------\n",
            "[0, 1, 8, 3, 5, 2, 6, 4, 7] \n",
            "\n",
            "[1, 2, 3, 4, 5, 6, 7, 8, 0]\n",
            "Length of solution:  22\n",
            "Nodes Expanded= 570\n",
            "-----------------------\n",
            "['r', 'r', 'd', 'l', 'd', 'r', 'u', 'l', 'u', 'r', 'd', 'l', 'd', 'r', 'u', 'l', 'l', 'u', 'r', 'r', 'd', 'd']\n",
            "-----------------------\n",
            "[0, 4, 6, 5, 8, 1, 7, 2, 3] \n",
            "\n",
            "[1, 2, 3, 4, 5, 6, 7, 8, 0]\n",
            "Length of solution:  22\n",
            "Nodes Expanded= 1020\n",
            "-----------------------\n",
            "['r', 'u', 'l', 'd', 'd', 'r', 'u', 'u', 'l', 'd', 'd', 'r', 'u', 'l', 'l', 'd', 'r', 'r', 'u', 'l', 'd', 'r']\n",
            "-----------------------\n",
            "[1, 5, 7, 6, 0, 3, 4, 2, 8] \n",
            "\n",
            "[1, 2, 3, 4, 5, 6, 7, 8, 0]\n",
            "Length of solution:  22\n",
            "Nodes Expanded= 1378\n",
            "-----------------------\n",
            "['d', 'r', 'd', 'l', 'u', 'r', 'd', 'r', 'u', 'l', 'l', 'u', 'r', 'r', 'd', 'l', 'u', 'l', 'd', 'r', 'r', 'd']\n",
            "-----------------------\n",
            "[0, 2, 4, 1, 7, 6, 3, 5, 8] \n",
            "\n",
            "[1, 2, 3, 4, 5, 6, 7, 8, 0]\n",
            "Length of solution:  22\n",
            "Nodes Expanded= 1090\n",
            "-----------------------\n",
            "-------\n",
            "[('530476218', 'llddruulddruuldrdr', 251), ('320154786', 'ldrulldrruldrd', 92), ('013852674', 'ddrurdlluurddlurrdllurrd', 2798), ('376241850', 'ululdrrulddruldluruldrrd', 1769), ('675801234', 'dluurdruldlurrdldruulddlurrd', 7654), ('746801325', 'dluurdrulddruldluurrdd', 641), ('018352647', 'rrdlldrrulurdlldrruldr', 570), ('046581723', 'rrdldrulurdldrullurrdd', 1020), ('157603428', 'rulddruulddrulldrruldr', 1378), ('024176358', 'drdlurdrullurrdluldrrd', 1090)]\n"
          ]
        }
      ]
    },
    {
      "cell_type": "markdown",
      "metadata": {
        "id": "dluzNjyYVBSl"
      },
      "source": [
        "### AStar using OutOfPlace w/ Test Problems"
      ]
    },
    {
      "cell_type": "code",
      "metadata": {
        "colab": {
          "base_uri": "https://localhost:8080/"
        },
        "id": "m7icYl-JUGbR",
        "outputId": "6c4fd3dc-4035-4d56-a8ea-b694ed81ccfb"
      },
      "source": [
        "AStarFb = lambda n: n.PathCost + OutOfPlace(n.State, GoalState)\n",
        "testProblems = [[5, 3, 0, 4, 7, 6, 2, 1, 8], [3, 2, 0, 1, 5, 4, 7, 8, 6], [0, 1, 3, 8, 5, 2, 6, 7, 4],\n",
        "                [3, 7, 6, 2, 4, 1, 8, 5, 0], [6, 7, 5, 8, 0, 1, 2, 3, 4], [7, 4, 6, 8, 0, 1, 3, 2, 5],\n",
        "                [0, 1, 8, 3, 5, 2, 6, 4, 7], [0, 4, 6, 5, 8, 1, 7, 2, 3], [1, 5, 7, 6, 0, 3, 4, 2, 8],\n",
        "                [0, 2, 4, 1, 7, 6, 3, 5, 8]]\n",
        "\n",
        "Solutions = []\n",
        "for s in testProblems:\n",
        "  TileSliding.INITIAL = s\n",
        "  ret, cost = BestFirstSearch(TileSliding, AStarFb)\n",
        "  sol = Solution(ret)\n",
        "  print (sol)\n",
        "  print (\"-----------------------\")\n",
        "  print (TileSliding.INITIAL,'\\n')\n",
        "  print (ApplyMoves(sol, TileSliding.INITIAL))\n",
        "  print (\"Length of solution: \", len(sol))\n",
        "  print (\"Nodes Expanded=\", cost)\n",
        "  print (\"-----------------------\")\n",
        "  Solutions.append((''.join(map(str, s)), ''.join(sol), cost))\n",
        "print (\"-------\")\n",
        "print (Solutions)"
      ],
      "execution_count": 43,
      "outputs": [
        {
          "output_type": "stream",
          "name": "stdout",
          "text": [
            "['l', 'd', 'l', 'd', 'r', 'u', 'u', 'l', 'd', 'd', 'r', 'u', 'u', 'l', 'd', 'd', 'r', 'r']\n",
            "-----------------------\n",
            "[5, 3, 0, 4, 7, 6, 2, 1, 8] \n",
            "\n",
            "[1, 2, 3, 4, 5, 6, 7, 8, 0]\n",
            "Length of solution:  18\n",
            "Nodes Expanded= 1319\n",
            "-----------------------\n",
            "['l', 'd', 'r', 'u', 'l', 'l', 'd', 'r', 'r', 'u', 'l', 'd', 'r', 'd']\n",
            "-----------------------\n",
            "[3, 2, 0, 1, 5, 4, 7, 8, 6] \n",
            "\n",
            "[1, 2, 3, 4, 5, 6, 7, 8, 0]\n",
            "Length of solution:  14\n",
            "Nodes Expanded= 242\n",
            "-----------------------\n",
            "['d', 'd', 'r', 'u', 'r', 'd', 'l', 'l', 'u', 'u', 'r', 'd', 'd', 'l', 'u', 'r', 'r', 'd', 'l', 'l', 'u', 'r', 'r', 'd']\n",
            "-----------------------\n",
            "[0, 1, 3, 8, 5, 2, 6, 7, 4] \n",
            "\n",
            "[1, 2, 3, 4, 5, 6, 7, 8, 0]\n",
            "Length of solution:  24\n",
            "Nodes Expanded= 18751\n",
            "-----------------------\n",
            "['u', 'l', 'u', 'l', 'd', 'r', 'r', 'u', 'l', 'd', 'd', 'r', 'u', 'l', 'd', 'l', 'u', 'r', 'u', 'l', 'd', 'r', 'r', 'd']\n",
            "-----------------------\n",
            "[3, 7, 6, 2, 4, 1, 8, 5, 0] \n",
            "\n",
            "[1, 2, 3, 4, 5, 6, 7, 8, 0]\n",
            "Length of solution:  24\n",
            "Nodes Expanded= 17913\n",
            "-----------------------\n",
            "['r', 'd', 'l', 'u', 'l', 'd', 'r', 'u', 'r', 'd', 'l', 'u', 'u', 'l', 'd', 'd', 'r', 'u', 'u', 'r', 'd', 'l', 'u', 'l', 'd', 'd', 'r', 'r']\n",
            "-----------------------\n",
            "[6, 7, 5, 8, 0, 1, 2, 3, 4] \n",
            "\n",
            "[1, 2, 3, 4, 5, 6, 7, 8, 0]\n",
            "Length of solution:  28\n",
            "Nodes Expanded= 82106\n",
            "-----------------------\n",
            "['d', 'l', 'u', 'u', 'r', 'd', 'r', 'u', 'l', 'd', 'd', 'r', 'u', 'l', 'd', 'l', 'u', 'u', 'r', 'r', 'd', 'd']\n",
            "-----------------------\n",
            "[7, 4, 6, 8, 0, 1, 3, 2, 5] \n",
            "\n",
            "[1, 2, 3, 4, 5, 6, 7, 8, 0]\n",
            "Length of solution:  22\n",
            "Nodes Expanded= 9167\n",
            "-----------------------\n",
            "['r', 'r', 'd', 'l', 'l', 'd', 'r', 'r', 'u', 'l', 'u', 'r', 'd', 'l', 'l', 'd', 'r', 'r', 'u', 'l', 'd', 'r']\n",
            "-----------------------\n",
            "[0, 1, 8, 3, 5, 2, 6, 4, 7] \n",
            "\n",
            "[1, 2, 3, 4, 5, 6, 7, 8, 0]\n",
            "Length of solution:  22\n",
            "Nodes Expanded= 7533\n",
            "-----------------------\n",
            "['r', 'r', 'd', 'l', 'd', 'r', 'u', 'l', 'u', 'r', 'd', 'l', 'd', 'r', 'u', 'l', 'l', 'u', 'r', 'r', 'd', 'd']\n",
            "-----------------------\n",
            "[0, 4, 6, 5, 8, 1, 7, 2, 3] \n",
            "\n",
            "[1, 2, 3, 4, 5, 6, 7, 8, 0]\n",
            "Length of solution:  22\n",
            "Nodes Expanded= 8021\n",
            "-----------------------\n",
            "['r', 'u', 'l', 'd', 'd', 'r', 'u', 'u', 'l', 'd', 'd', 'r', 'u', 'l', 'l', 'd', 'r', 'r', 'u', 'l', 'd', 'r']\n",
            "-----------------------\n",
            "[1, 5, 7, 6, 0, 3, 4, 2, 8] \n",
            "\n",
            "[1, 2, 3, 4, 5, 6, 7, 8, 0]\n",
            "Length of solution:  22\n",
            "Nodes Expanded= 10011\n",
            "-----------------------\n",
            "['d', 'r', 'd', 'r', 'u', 'u', 'l', 'd', 'r', 'd', 'l', 'l', 'u', 'r', 'd', 'r', 'u', 'l', 'u', 'r', 'd', 'd']\n",
            "-----------------------\n",
            "[0, 2, 4, 1, 7, 6, 3, 5, 8] \n",
            "\n",
            "[1, 2, 3, 4, 5, 6, 7, 8, 0]\n",
            "Length of solution:  22\n",
            "Nodes Expanded= 8014\n",
            "-----------------------\n",
            "-------\n",
            "[('530476218', 'ldldruulddruulddrr', 1319), ('320154786', 'ldrulldrruldrd', 242), ('013852674', 'ddrurdlluurddlurrdllurrd', 18751), ('376241850', 'ululdrrulddruldluruldrrd', 17913), ('675801234', 'rdluldrurdluulddruurdlulddrr', 82106), ('746801325', 'dluurdrulddruldluurrdd', 9167), ('018352647', 'rrdlldrrulurdlldrruldr', 7533), ('046581723', 'rrdldrulurdldrullurrdd', 8021), ('157603428', 'rulddruulddrulldrruldr', 10011), ('024176358', 'drdruuldrdllurdrulurdd', 8014)]\n"
          ]
        }
      ]
    },
    {
      "cell_type": "markdown",
      "metadata": {
        "id": "TEBWJx6DwN-r"
      },
      "source": [
        "### Best First Search -- Greedy"
      ]
    },
    {
      "cell_type": "code",
      "metadata": {
        "colab": {
          "base_uri": "https://localhost:8080/"
        },
        "id": "fI27-Y5ivXdw",
        "outputId": "e7a99692-40ab-4c78-975f-654f54000fcc"
      },
      "source": [
        "### Best First\n",
        "bestFirstSearchf = lambda n: OutOfPlace(n.State, GoalState)\n",
        "testProblems = [[5, 3, 0, 4, 7, 6, 2, 1, 8], [3, 2, 0, 1, 5, 4, 7, 8, 6], [0, 1, 3, 8, 5, 2, 6, 7, 4],\n",
        "                [3, 7, 6, 2, 4, 1, 8, 5, 0], [6, 7, 5, 8, 0, 1, 2, 3, 4], [7, 4, 6, 8, 0, 1, 3, 2, 5],\n",
        "                [0, 1, 8, 3, 5, 2, 6, 4, 7], [0, 4, 6, 5, 8, 1, 7, 2, 3], [1, 5, 7, 6, 0, 3, 4, 2, 8],\n",
        "                [0, 2, 4, 1, 7, 6, 3, 5, 8]]\n",
        "\n",
        "Solutions = []\n",
        "for s in testProblems:\n",
        "  TileSliding.INITIAL = s\n",
        "  ret, cost = BestFirstSearch(TileSliding, bestFirstSearchf)\n",
        "  sol = Solution(ret)\n",
        "  print (sol)\n",
        "  print (\"-----------------------\")\n",
        "  print (TileSliding.INITIAL,'\\n')\n",
        "  print (ApplyMoves(sol, TileSliding.INITIAL))\n",
        "  print (\"Length of solution: \", len(sol))\n",
        "  print (\"Nodes Expanded=\", cost)\n",
        "  print (\"-----------------------\")\n",
        "  Solutions.append((''.join(map(str, s)), ''.join(sol), cost))\n",
        "print (\"-------\")\n",
        "print (Solutions)"
      ],
      "execution_count": 44,
      "outputs": [
        {
          "output_type": "stream",
          "name": "stdout",
          "text": [
            "['l', 'l', 'd', 'd', 'r', 'u', 'u', 'l', 'd', 'd', 'r', 'u', 'u', 'l', 'd', 'r', 'd', 'r']\n",
            "-----------------------\n",
            "[5, 3, 0, 4, 7, 6, 2, 1, 8] \n",
            "\n",
            "[1, 2, 3, 4, 5, 6, 7, 8, 0]\n",
            "Length of solution:  18\n",
            "Nodes Expanded= 52\n",
            "-----------------------\n",
            "['l', 'l', 'd', 'r', 'u', 'r', 'd', 'l', 'l', 'u', 'r', 'r', 'd', 'l', 'u', 'l', 'd', 'r', 'r', 'd']\n",
            "-----------------------\n",
            "[3, 2, 0, 1, 5, 4, 7, 8, 6] \n",
            "\n",
            "[1, 2, 3, 4, 5, 6, 7, 8, 0]\n",
            "Length of solution:  20\n",
            "Nodes Expanded= 196\n",
            "-----------------------\n",
            "['r', 'd', 'd', 'l', 'u', 'r', 'r', 'd', 'l', 'l', 'u', 'r', 'r', 'd', 'l', 'l', 'u', 'r', 'u', 'l', 'd', 'd', 'r', 'u', 'l', 'u', 'r', 'd', 'd', 'r']\n",
            "-----------------------\n",
            "[0, 1, 3, 8, 5, 2, 6, 7, 4] \n",
            "\n",
            "[1, 2, 3, 4, 5, 6, 7, 8, 0]\n",
            "Length of solution:  30\n",
            "Nodes Expanded= 380\n",
            "-----------------------\n",
            "['u', 'u', 'l', 'l', 'd', 'r', 'd', 'r', 'u', 'u', 'l', 'd', 'd', 'l', 'u', 'r', 'u', 'l', 'd', 'r', 'r', 'd', 'l', 'u', 'l', 'd', 'r', 'r']\n",
            "-----------------------\n",
            "[3, 7, 6, 2, 4, 1, 8, 5, 0] \n",
            "\n",
            "[1, 2, 3, 4, 5, 6, 7, 8, 0]\n",
            "Length of solution:  28\n",
            "Nodes Expanded= 609\n",
            "-----------------------\n",
            "['l', 'd', 'r', 'u', 'r', 'u', 'l', 'l', 'd', 'r', 'r', 'u', 'l', 'l', 'd', 'r', 'd', 'l', 'u', 'r', 'r', 'd', 'l', 'l', 'u', 'r', 'd', 'l', 'u', 'r', 'r', 'd', 'l', 'u', 'r', 'u', 'l', 'd', 'd', 'r', 'u', 'l', 'u', 'r', 'd', 'l', 'l', 'u', 'r', 'r', 'd', 'l', 'u', 'l', 'd', 'r', 'r', 'd']\n",
            "-----------------------\n",
            "[6, 7, 5, 8, 0, 1, 2, 3, 4] \n",
            "\n",
            "[1, 2, 3, 4, 5, 6, 7, 8, 0]\n",
            "Length of solution:  58\n",
            "Nodes Expanded= 1753\n",
            "-----------------------\n",
            "['r', 'u', 'l', 'd', 'l', 'u', 'r', 'd', 'd', 'l', 'u', 'r', 'd', 'r', 'u', 'l', 'u', 'r', 'd', 'd', 'l', 'u', 'u', 'l', 'd', 'r', 'u', 'r', 'd', 'l', 'u', 'l', 'd', 'r', 'r', 'u', 'l', 'd', 'l', 'u', 'r', 'r', 'd', 'd', 'l', 'u', 'r', 'u', 'l', 'd', 'd', 'r', 'u', 'l', 'u', 'r', 'd', 'd']\n",
            "-----------------------\n",
            "[7, 4, 6, 8, 0, 1, 3, 2, 5] \n",
            "\n",
            "[1, 2, 3, 4, 5, 6, 7, 8, 0]\n",
            "Length of solution:  58\n",
            "Nodes Expanded= 365\n",
            "-----------------------\n",
            "['r', 'd', 'r', 'u', 'l', 'd', 'l', 'd', 'r', 'r', 'u', 'l', 'l', 'd', 'r', 'u', 'r', 'u', 'l', 'd', 'd', 'r', 'u', 'l', 'u', 'r', 'd', 'd', 'l', 'u', 'r', 'u', 'l', 'd', 'd', 'r', 'u', 'l', 'u', 'r', 'd', 'd']\n",
            "-----------------------\n",
            "[0, 1, 8, 3, 5, 2, 6, 4, 7] \n",
            "\n",
            "[1, 2, 3, 4, 5, 6, 7, 8, 0]\n",
            "Length of solution:  42\n",
            "Nodes Expanded= 696\n",
            "-----------------------\n",
            "['r', 'd', 'l', 'u', 'r', 'r', 'd', 'd', 'l', 'u', 'u', 'r', 'd', 'l', 'd', 'l', 'u', 'u', 'r', 'd', 'l', 'd', 'r', 'u', 'u', 'r', 'd', 'd', 'l', 'u', 'r', 'u', 'l', 'd', 'd', 'r']\n",
            "-----------------------\n",
            "[0, 4, 6, 5, 8, 1, 7, 2, 3] \n",
            "\n",
            "[1, 2, 3, 4, 5, 6, 7, 8, 0]\n",
            "Length of solution:  36\n",
            "Nodes Expanded= 386\n",
            "-----------------------\n",
            "['u', 'r', 'd', 'l', 'l', 'd', 'r', 'u', 'r', 'd', 'l', 'u', 'u', 'r', 'd', 'l', 'd', 'r', 'u', 'u', 'l', 'd', 'd', 'r', 'u', 'l', 'u', 'l', 'd', 'd', 'r', 'u', 'l', 'u', 'r', 'd', 'd', 'r']\n",
            "-----------------------\n",
            "[1, 5, 7, 6, 0, 3, 4, 2, 8] \n",
            "\n",
            "[1, 2, 3, 4, 5, 6, 7, 8, 0]\n",
            "Length of solution:  38\n",
            "Nodes Expanded= 1232\n",
            "-----------------------\n",
            "['d', 'r', 'd', 'l', 'u', 'r', 'd', 'r', 'u', 'l', 'l', 'u', 'r', 'r', 'd', 'l', 'u', 'l', 'd', 'r', 'r', 'd']\n",
            "-----------------------\n",
            "[0, 2, 4, 1, 7, 6, 3, 5, 8] \n",
            "\n",
            "[1, 2, 3, 4, 5, 6, 7, 8, 0]\n",
            "Length of solution:  22\n",
            "Nodes Expanded= 111\n",
            "-----------------------\n",
            "-------\n",
            "[('530476218', 'llddruulddruuldrdr', 52), ('320154786', 'lldrurdllurrdluldrrd', 196), ('013852674', 'rddlurrdllurrdllurulddrulurddr', 380), ('376241850', 'uulldrdruulddluruldrrdluldrr', 609), ('675801234', 'ldrurulldrrulldrdlurrdllurdlurrdlurulddrulurdllurrdluldrrd', 1753), ('746801325', 'ruldlurddlurdrulurddluuldrurdluldrruldlurrddlurulddrulurdd', 365), ('018352647', 'rdruldldrrulldrurulddrulurddlurulddrulurdd', 696), ('046581723', 'rdlurrddluurdldluurdldruurddlurulddr', 386), ('157603428', 'urdlldrurdluurdldruulddrululddrulurddr', 1232), ('024176358', 'drdlurdrullurrdluldrrd', 111)]\n"
          ]
        }
      ]
    },
    {
      "cell_type": "code",
      "metadata": {
        "colab": {
          "base_uri": "https://localhost:8080/"
        },
        "id": "rQw9QKTCMvBY",
        "outputId": "82c520a5-6592-4fc6-a0d0-5a86c1d57835"
      },
      "source": [
        "### Best First\n",
        "bestFirstSearchf = lambda n: ManhattanDistance(n.State, GoalState)\n",
        "testProblems = [[5, 3, 0, 4, 7, 6, 2, 1, 8], [3, 2, 0, 1, 5, 4, 7, 8, 6], [0, 1, 3, 8, 5, 2, 6, 7, 4],\n",
        "                [3, 7, 6, 2, 4, 1, 8, 5, 0], [6, 7, 5, 8, 0, 1, 2, 3, 4], [7, 4, 6, 8, 0, 1, 3, 2, 5],\n",
        "                [0, 1, 8, 3, 5, 2, 6, 4, 7], [0, 4, 6, 5, 8, 1, 7, 2, 3], [1, 5, 7, 6, 0, 3, 4, 2, 8],\n",
        "                [0, 2, 4, 1, 7, 6, 3, 5, 8]]\n",
        "\n",
        "Solutions = []\n",
        "for s in testProblems:\n",
        "  TileSliding.INITIAL = s\n",
        "  ret, cost = BestFirstSearch(TileSliding, bestFirstSearchf)\n",
        "  sol = Solution(ret)\n",
        "  print (sol)\n",
        "  print (\"-----------------------\")\n",
        "  print (TileSliding.INITIAL,'\\n')\n",
        "  print (ApplyMoves(sol, TileSliding.INITIAL))\n",
        "  print (\"Length of solution: \", len(sol))\n",
        "  print (\"Nodes Expanded=\", cost)\n",
        "  print (\"-----------------------\")\n",
        "  Solutions.append((''.join(map(str, s)), ''.join(sol), cost))\n",
        "print (\"-------\")\n",
        "print (Solutions)"
      ],
      "execution_count": 45,
      "outputs": [
        {
          "output_type": "stream",
          "name": "stdout",
          "text": [
            "['l', 'l', 'd', 'd', 'r', 'u', 'l', 'd', 'r', 'u', 'l', 'u', 'r', 'd', 'd', 'l', 'u', 'u', 'r', 'd', 'l', 'd', 'r', 'r']\n",
            "-----------------------\n",
            "[5, 3, 0, 4, 7, 6, 2, 1, 8] \n",
            "\n",
            "[1, 2, 3, 4, 5, 6, 7, 8, 0]\n",
            "Length of solution:  24\n",
            "Nodes Expanded= 263\n",
            "-----------------------\n",
            "['l', 'l', 'd', 'r', 'u', 'r', 'd', 'l', 'l', 'u', 'r', 'r', 'd', 'l', 'u', 'l', 'd', 'r', 'r', 'd']\n",
            "-----------------------\n",
            "[3, 2, 0, 1, 5, 4, 7, 8, 6] \n",
            "\n",
            "[1, 2, 3, 4, 5, 6, 7, 8, 0]\n",
            "Length of solution:  20\n",
            "Nodes Expanded= 193\n",
            "-----------------------\n",
            "['r', 'd', 'l', 'd', 'r', 'u', 'u', 'r', 'd', 'd', 'l', 'u', 'r', 'u', 'l', 'd', 'l', 'u', 'r', 'r', 'd', 'l', 'd', 'r', 'u', 'u', 'l', 'l', 'd', 'r', 'r', 'u', 'l', 'd', 'l', 'u', 'r', 'r', 'd', 'l', 'u', 'l', 'd', 'r', 'r', 'd']\n",
            "-----------------------\n",
            "[0, 1, 3, 8, 5, 2, 6, 7, 4] \n",
            "\n",
            "[1, 2, 3, 4, 5, 6, 7, 8, 0]\n",
            "Length of solution:  46\n",
            "Nodes Expanded= 412\n",
            "-----------------------\n",
            "['u', 'u', 'l', 'l', 'd', 'r', 'd', 'r', 'u', 'u', 'l', 'd', 'd', 'l', 'u', 'r', 'u', 'l', 'd', 'r', 'r', 'd', 'l', 'u', 'l', 'd', 'r', 'r']\n",
            "-----------------------\n",
            "[3, 7, 6, 2, 4, 1, 8, 5, 0] \n",
            "\n",
            "[1, 2, 3, 4, 5, 6, 7, 8, 0]\n",
            "Length of solution:  28\n",
            "Nodes Expanded= 38\n",
            "-----------------------\n",
            "['u', 'r', 'd', 'd', 'l', 'u', 'l', 'd', 'r', 'u', 'u', 'l', 'd', 'r', 'u', 'r', 'd', 'l', 'l', 'u', 'r', 'r', 'd', 'l', 'u', 'l', 'd', 'r', 'r', 'd', 'l', 'u', 'r', 'u', 'l', 'd', 'd', 'r', 'u', 'u', 'l', 'l', 'd', 'r', 'r', 'u', 'l', 'd', 'l', 'u', 'r', 'r', 'd', 'd']\n",
            "-----------------------\n",
            "[6, 7, 5, 8, 0, 1, 2, 3, 4] \n",
            "\n",
            "[1, 2, 3, 4, 5, 6, 7, 8, 0]\n",
            "Length of solution:  54\n",
            "Nodes Expanded= 362\n",
            "-----------------------\n",
            "['l', 'u', 'r', 'd', 'd', 'l', 'u', 'u', 'r', 'd', 'r', 'd', 'l', 'u', 'r', 'u', 'l', 'l', 'd', 'r', 'u', 'r', 'd', 'd', 'l', 'u', 'l', 'u', 'r', 'r', 'd', 'd', 'l', 'u', 'u', 'r', 'd', 'l', 'd', 'r', 'u', 'u', 'l', 'd', 'r', 'd', 'l', 'l', 'u', 'r', 'u', 'l', 'd', 'd', 'r', 'r']\n",
            "-----------------------\n",
            "[7, 4, 6, 8, 0, 1, 3, 2, 5] \n",
            "\n",
            "[1, 2, 3, 4, 5, 6, 7, 8, 0]\n",
            "Length of solution:  56\n",
            "Nodes Expanded= 205\n",
            "-----------------------\n",
            "['d', 'd', 'r', 'r', 'u', 'u', 'l', 'l', 'd', 'd', 'r', 'r', 'u', 'l', 'd', 'r', 'u', 'u', 'l', 'd', 'r', 'u', 'l', 'd', 'l', 'u', 'r', 'r', 'd', 'd', 'l', 'u', 'l', 'd', 'r', 'r', 'u', 'l', 'l', 'd', 'r', 'r', 'u', 'l', 'd', 'l', 'u', 'r', 'r', 'd', 'l', 'u', 'l', 'd', 'r', 'r']\n",
            "-----------------------\n",
            "[0, 1, 8, 3, 5, 2, 6, 4, 7] \n",
            "\n",
            "[1, 2, 3, 4, 5, 6, 7, 8, 0]\n",
            "Length of solution:  56\n",
            "Nodes Expanded= 180\n",
            "-----------------------\n",
            "['r', 'd', 'r', 'u', 'l', 'd', 'l', 'u', 'r', 'r', 'd', 'd', 'l', 'u', 'u', 'r', 'd', 'd', 'l', 'u', 'r', 'u', 'l', 'd', 'r', 'd', 'l', 'u', 'r', 'u', 'l', 'd', 'd', 'r', 'u', 'l', 'u', 'r', 'd', 'd']\n",
            "-----------------------\n",
            "[0, 4, 6, 5, 8, 1, 7, 2, 3] \n",
            "\n",
            "[1, 2, 3, 4, 5, 6, 7, 8, 0]\n",
            "Length of solution:  40\n",
            "Nodes Expanded= 184\n",
            "-----------------------\n",
            "['u', 'r', 'd', 'l', 'l', 'd', 'r', 'r', 'u', 'l', 'u', 'r', 'd', 'd', 'l', 'u', 'r', 'u', 'l', 'l', 'd', 'd', 'r', 'u', 'l', 'u', 'r', 'd', 'd', 'r']\n",
            "-----------------------\n",
            "[1, 5, 7, 6, 0, 3, 4, 2, 8] \n",
            "\n",
            "[1, 2, 3, 4, 5, 6, 7, 8, 0]\n",
            "Length of solution:  30\n",
            "Nodes Expanded= 158\n",
            "-----------------------\n",
            "['d', 'r', 'd', 'l', 'u', 'r', 'd', 'r', 'u', 'l', 'l', 'u', 'r', 'r', 'd', 'l', 'u', 'l', 'd', 'r', 'r', 'd']\n",
            "-----------------------\n",
            "[0, 2, 4, 1, 7, 6, 3, 5, 8] \n",
            "\n",
            "[1, 2, 3, 4, 5, 6, 7, 8, 0]\n",
            "Length of solution:  22\n",
            "Nodes Expanded= 166\n",
            "-----------------------\n",
            "-------\n",
            "[('530476218', 'llddruldrulurddluurdldrr', 263), ('320154786', 'lldrurdllurrdluldrrd', 193), ('013852674', 'rdldruurddluruldlurrdldruulldrruldlurrdluldrrd', 412), ('376241850', 'uulldrdruulddluruldrrdluldrr', 38), ('675801234', 'urddluldruuldrurdllurrdluldrrdlurulddruulldrruldlurrdd', 362), ('746801325', 'lurddluurdrdlurulldrurddlulurrddluurdldruuldrdllurulddrr', 205), ('018352647', 'ddrruullddrruldruuldruldlurrddluldrrulldrruldlurrdluldrr', 180), ('046581723', 'rdruldlurrddluurddluruldrdlurulddrulurdd', 184), ('157603428', 'urdlldrrulurddlurullddrulurddr', 158), ('024176358', 'drdlurdrullurrdluldrrd', 166)]\n"
          ]
        }
      ]
    },
    {
      "cell_type": "markdown",
      "metadata": {
        "id": "TFLhS5QmxRz2"
      },
      "source": [
        "# Domain 2"
      ]
    },
    {
      "cell_type": "code",
      "metadata": {
        "id": "PqDD8fsrxXK7"
      },
      "source": [
        "VectorWorldDim = 10\n",
        "VectorWorld = Problem()\n",
        "VectorWorld.INITIAL = [0]\n",
        "VectorWorld.IsGoal = lambda s: s==[3,] or s==(3,)\n",
        "VectorWorld.Actions = lambda s: ['Left', 'Right']\n",
        "## TileSliding.Result=VectorWorldResult\n",
        "VectorWorld.ActionCost = lambda s, a, sPrime: 1"
      ],
      "execution_count": 46,
      "outputs": []
    },
    {
      "cell_type": "code",
      "metadata": {
        "id": "uWNR8AQJyCN7"
      },
      "source": [
        "def VectorWorldResult(state, action):\n",
        "  if action=='Left':\n",
        "    return [(state[0]+VectorWorldDim-1)%VectorWorldDim]\n",
        "  else:\n",
        "    return [(state[0]+1)%VectorWorldDim]\n",
        "VectorWorld.Result=VectorWorldResult\n"
      ],
      "execution_count": 47,
      "outputs": []
    },
    {
      "cell_type": "code",
      "metadata": {
        "colab": {
          "base_uri": "https://localhost:8080/"
        },
        "id": "Ox26cyPP2xba",
        "outputId": "11369f0d-b8d2-4e04-e49c-3f1171452a2a"
      },
      "source": [
        "print (VectorWorld.IsGoal((3,)))"
      ],
      "execution_count": 48,
      "outputs": [
        {
          "output_type": "stream",
          "name": "stdout",
          "text": [
            "True\n"
          ]
        }
      ]
    },
    {
      "cell_type": "code",
      "metadata": {
        "colab": {
          "base_uri": "https://localhost:8080/"
        },
        "id": "SBfeM9Vbykci",
        "outputId": "5a8531d6-6b23-4df4-d11c-bfbdc94e19d2"
      },
      "source": [
        "ret, cost = BreadthFirstSearch(VectorWorld)\n",
        "print (\"ret=\", ret)\n",
        "sol = Solution(ret)\n",
        "print (sol)\n"
      ],
      "execution_count": 49,
      "outputs": [
        {
          "output_type": "stream",
          "name": "stdout",
          "text": [
            "ret= [3], Right\n",
            "['Right', 'Right', 'Right']\n"
          ]
        }
      ]
    },
    {
      "cell_type": "code",
      "metadata": {
        "id": "dAbJ75Ym4WmP"
      },
      "source": [
        "VectorWorld.INITIAL = [8]"
      ],
      "execution_count": 50,
      "outputs": []
    },
    {
      "cell_type": "code",
      "metadata": {
        "colab": {
          "base_uri": "https://localhost:8080/"
        },
        "id": "QGO1VglP4Zq6",
        "outputId": "c02b5964-205c-4169-bb0e-ca5f138b85b2"
      },
      "source": [
        "ret, cost = BreadthFirstSearch(VectorWorld)\n",
        "print (\"ret=\", ret)\n",
        "sol = Solution(ret)\n",
        "print (sol)"
      ],
      "execution_count": 51,
      "outputs": [
        {
          "output_type": "stream",
          "name": "stdout",
          "text": [
            "ret= [3], Left\n",
            "['Left', 'Left', 'Left', 'Left', 'Left']\n"
          ]
        }
      ]
    }
  ]
}